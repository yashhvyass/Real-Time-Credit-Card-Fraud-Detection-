{
  "nbformat": 4,
  "nbformat_minor": 0,
  "metadata": {
    "colab": {
      "name": "Credit.ipynb",
      "provenance": []
    },
    "kernelspec": {
      "name": "python3",
      "display_name": "Python 3"
    }
  },
  "cells": [
    {
      "cell_type": "code",
      "metadata": {
        "id": "vZrR8d65lKh6"
      },
      "source": [
        "#Imporing necessary modules\r\n",
        "import numpy as np\r\n",
        "import pandas as pd\r\n",
        "import sklearn\r\n",
        "import scipy\r\n",
        "import matplotlib.pyplot as plt\r\n",
        "import seaborn as sns\r\n",
        "from sklearn.metrics import classification_report,accuracy_score\r\n",
        "from sklearn.ensemble import IsolationForest\r\n",
        "from sklearn.neighbors import LocalOutlierFactor\r\n",
        "from sklearn.svm import OneClassSVM\r\n",
        "from pylab import rcParams\r\n",
        "rcParams['figure.figsize'] = 14, 8\r\n",
        "RANDOM_SEED = 42\r\n",
        "LABELS = [\"Normal\", \"Fraud\"]"
      ],
      "execution_count": 40,
      "outputs": []
    },
    {
      "cell_type": "code",
      "metadata": {
        "id": "o_hy5-CgzW2q"
      },
      "source": [
        "#Reading the csv file\r\n",
        "data = pd.read_csv('creditcard.csv')"
      ],
      "execution_count": 41,
      "outputs": []
    },
    {
      "cell_type": "code",
      "metadata": {
        "colab": {
          "base_uri": "https://localhost:8080/",
          "height": 224
        },
        "id": "BnNfu5vrzdX7",
        "outputId": "0a0a9a0a-05ce-4f2d-d654-9ce5d5fcdc7f"
      },
      "source": [
        "#Exploring the dataset\r\n",
        "data.head()"
      ],
      "execution_count": 42,
      "outputs": [
        {
          "output_type": "execute_result",
          "data": {
            "text/html": [
              "<div>\n",
              "<style scoped>\n",
              "    .dataframe tbody tr th:only-of-type {\n",
              "        vertical-align: middle;\n",
              "    }\n",
              "\n",
              "    .dataframe tbody tr th {\n",
              "        vertical-align: top;\n",
              "    }\n",
              "\n",
              "    .dataframe thead th {\n",
              "        text-align: right;\n",
              "    }\n",
              "</style>\n",
              "<table border=\"1\" class=\"dataframe\">\n",
              "  <thead>\n",
              "    <tr style=\"text-align: right;\">\n",
              "      <th></th>\n",
              "      <th>Time</th>\n",
              "      <th>V1</th>\n",
              "      <th>V2</th>\n",
              "      <th>V3</th>\n",
              "      <th>V4</th>\n",
              "      <th>V5</th>\n",
              "      <th>V6</th>\n",
              "      <th>V7</th>\n",
              "      <th>V8</th>\n",
              "      <th>V9</th>\n",
              "      <th>V10</th>\n",
              "      <th>V11</th>\n",
              "      <th>V12</th>\n",
              "      <th>V13</th>\n",
              "      <th>V14</th>\n",
              "      <th>V15</th>\n",
              "      <th>V16</th>\n",
              "      <th>V17</th>\n",
              "      <th>V18</th>\n",
              "      <th>V19</th>\n",
              "      <th>V20</th>\n",
              "      <th>V21</th>\n",
              "      <th>V22</th>\n",
              "      <th>V23</th>\n",
              "      <th>V24</th>\n",
              "      <th>V25</th>\n",
              "      <th>V26</th>\n",
              "      <th>V27</th>\n",
              "      <th>V28</th>\n",
              "      <th>Amount</th>\n",
              "      <th>Class</th>\n",
              "    </tr>\n",
              "  </thead>\n",
              "  <tbody>\n",
              "    <tr>\n",
              "      <th>0</th>\n",
              "      <td>0.0</td>\n",
              "      <td>-1.359807</td>\n",
              "      <td>-0.072781</td>\n",
              "      <td>2.536347</td>\n",
              "      <td>1.378155</td>\n",
              "      <td>-0.338321</td>\n",
              "      <td>0.462388</td>\n",
              "      <td>0.239599</td>\n",
              "      <td>0.098698</td>\n",
              "      <td>0.363787</td>\n",
              "      <td>0.090794</td>\n",
              "      <td>-0.551600</td>\n",
              "      <td>-0.617801</td>\n",
              "      <td>-0.991390</td>\n",
              "      <td>-0.311169</td>\n",
              "      <td>1.468177</td>\n",
              "      <td>-0.470401</td>\n",
              "      <td>0.207971</td>\n",
              "      <td>0.025791</td>\n",
              "      <td>0.403993</td>\n",
              "      <td>0.251412</td>\n",
              "      <td>-0.018307</td>\n",
              "      <td>0.277838</td>\n",
              "      <td>-0.110474</td>\n",
              "      <td>0.066928</td>\n",
              "      <td>0.128539</td>\n",
              "      <td>-0.189115</td>\n",
              "      <td>0.133558</td>\n",
              "      <td>-0.021053</td>\n",
              "      <td>149.62</td>\n",
              "      <td>0</td>\n",
              "    </tr>\n",
              "    <tr>\n",
              "      <th>1</th>\n",
              "      <td>0.0</td>\n",
              "      <td>1.191857</td>\n",
              "      <td>0.266151</td>\n",
              "      <td>0.166480</td>\n",
              "      <td>0.448154</td>\n",
              "      <td>0.060018</td>\n",
              "      <td>-0.082361</td>\n",
              "      <td>-0.078803</td>\n",
              "      <td>0.085102</td>\n",
              "      <td>-0.255425</td>\n",
              "      <td>-0.166974</td>\n",
              "      <td>1.612727</td>\n",
              "      <td>1.065235</td>\n",
              "      <td>0.489095</td>\n",
              "      <td>-0.143772</td>\n",
              "      <td>0.635558</td>\n",
              "      <td>0.463917</td>\n",
              "      <td>-0.114805</td>\n",
              "      <td>-0.183361</td>\n",
              "      <td>-0.145783</td>\n",
              "      <td>-0.069083</td>\n",
              "      <td>-0.225775</td>\n",
              "      <td>-0.638672</td>\n",
              "      <td>0.101288</td>\n",
              "      <td>-0.339846</td>\n",
              "      <td>0.167170</td>\n",
              "      <td>0.125895</td>\n",
              "      <td>-0.008983</td>\n",
              "      <td>0.014724</td>\n",
              "      <td>2.69</td>\n",
              "      <td>0</td>\n",
              "    </tr>\n",
              "    <tr>\n",
              "      <th>2</th>\n",
              "      <td>1.0</td>\n",
              "      <td>-1.358354</td>\n",
              "      <td>-1.340163</td>\n",
              "      <td>1.773209</td>\n",
              "      <td>0.379780</td>\n",
              "      <td>-0.503198</td>\n",
              "      <td>1.800499</td>\n",
              "      <td>0.791461</td>\n",
              "      <td>0.247676</td>\n",
              "      <td>-1.514654</td>\n",
              "      <td>0.207643</td>\n",
              "      <td>0.624501</td>\n",
              "      <td>0.066084</td>\n",
              "      <td>0.717293</td>\n",
              "      <td>-0.165946</td>\n",
              "      <td>2.345865</td>\n",
              "      <td>-2.890083</td>\n",
              "      <td>1.109969</td>\n",
              "      <td>-0.121359</td>\n",
              "      <td>-2.261857</td>\n",
              "      <td>0.524980</td>\n",
              "      <td>0.247998</td>\n",
              "      <td>0.771679</td>\n",
              "      <td>0.909412</td>\n",
              "      <td>-0.689281</td>\n",
              "      <td>-0.327642</td>\n",
              "      <td>-0.139097</td>\n",
              "      <td>-0.055353</td>\n",
              "      <td>-0.059752</td>\n",
              "      <td>378.66</td>\n",
              "      <td>0</td>\n",
              "    </tr>\n",
              "    <tr>\n",
              "      <th>3</th>\n",
              "      <td>1.0</td>\n",
              "      <td>-0.966272</td>\n",
              "      <td>-0.185226</td>\n",
              "      <td>1.792993</td>\n",
              "      <td>-0.863291</td>\n",
              "      <td>-0.010309</td>\n",
              "      <td>1.247203</td>\n",
              "      <td>0.237609</td>\n",
              "      <td>0.377436</td>\n",
              "      <td>-1.387024</td>\n",
              "      <td>-0.054952</td>\n",
              "      <td>-0.226487</td>\n",
              "      <td>0.178228</td>\n",
              "      <td>0.507757</td>\n",
              "      <td>-0.287924</td>\n",
              "      <td>-0.631418</td>\n",
              "      <td>-1.059647</td>\n",
              "      <td>-0.684093</td>\n",
              "      <td>1.965775</td>\n",
              "      <td>-1.232622</td>\n",
              "      <td>-0.208038</td>\n",
              "      <td>-0.108300</td>\n",
              "      <td>0.005274</td>\n",
              "      <td>-0.190321</td>\n",
              "      <td>-1.175575</td>\n",
              "      <td>0.647376</td>\n",
              "      <td>-0.221929</td>\n",
              "      <td>0.062723</td>\n",
              "      <td>0.061458</td>\n",
              "      <td>123.50</td>\n",
              "      <td>0</td>\n",
              "    </tr>\n",
              "    <tr>\n",
              "      <th>4</th>\n",
              "      <td>2.0</td>\n",
              "      <td>-1.158233</td>\n",
              "      <td>0.877737</td>\n",
              "      <td>1.548718</td>\n",
              "      <td>0.403034</td>\n",
              "      <td>-0.407193</td>\n",
              "      <td>0.095921</td>\n",
              "      <td>0.592941</td>\n",
              "      <td>-0.270533</td>\n",
              "      <td>0.817739</td>\n",
              "      <td>0.753074</td>\n",
              "      <td>-0.822843</td>\n",
              "      <td>0.538196</td>\n",
              "      <td>1.345852</td>\n",
              "      <td>-1.119670</td>\n",
              "      <td>0.175121</td>\n",
              "      <td>-0.451449</td>\n",
              "      <td>-0.237033</td>\n",
              "      <td>-0.038195</td>\n",
              "      <td>0.803487</td>\n",
              "      <td>0.408542</td>\n",
              "      <td>-0.009431</td>\n",
              "      <td>0.798278</td>\n",
              "      <td>-0.137458</td>\n",
              "      <td>0.141267</td>\n",
              "      <td>-0.206010</td>\n",
              "      <td>0.502292</td>\n",
              "      <td>0.219422</td>\n",
              "      <td>0.215153</td>\n",
              "      <td>69.99</td>\n",
              "      <td>0</td>\n",
              "    </tr>\n",
              "  </tbody>\n",
              "</table>\n",
              "</div>"
            ],
            "text/plain": [
              "   Time        V1        V2        V3  ...       V27       V28  Amount  Class\n",
              "0   0.0 -1.359807 -0.072781  2.536347  ...  0.133558 -0.021053  149.62      0\n",
              "1   0.0  1.191857  0.266151  0.166480  ... -0.008983  0.014724    2.69      0\n",
              "2   1.0 -1.358354 -1.340163  1.773209  ... -0.055353 -0.059752  378.66      0\n",
              "3   1.0 -0.966272 -0.185226  1.792993  ...  0.062723  0.061458  123.50      0\n",
              "4   2.0 -1.158233  0.877737  1.548718  ...  0.219422  0.215153   69.99      0\n",
              "\n",
              "[5 rows x 31 columns]"
            ]
          },
          "metadata": {
            "tags": []
          },
          "execution_count": 42
        }
      ]
    },
    {
      "cell_type": "code",
      "metadata": {
        "colab": {
          "base_uri": "https://localhost:8080/"
        },
        "id": "XaJxreGjzfq3",
        "outputId": "a39100ce-dca5-44ea-c820-50e5d482cbc7"
      },
      "source": [
        "data.info()"
      ],
      "execution_count": 43,
      "outputs": [
        {
          "output_type": "stream",
          "text": [
            "<class 'pandas.core.frame.DataFrame'>\n",
            "RangeIndex: 284807 entries, 0 to 284806\n",
            "Data columns (total 31 columns):\n",
            " #   Column  Non-Null Count   Dtype  \n",
            "---  ------  --------------   -----  \n",
            " 0   Time    284807 non-null  float64\n",
            " 1   V1      284807 non-null  float64\n",
            " 2   V2      284807 non-null  float64\n",
            " 3   V3      284807 non-null  float64\n",
            " 4   V4      284807 non-null  float64\n",
            " 5   V5      284807 non-null  float64\n",
            " 6   V6      284807 non-null  float64\n",
            " 7   V7      284807 non-null  float64\n",
            " 8   V8      284807 non-null  float64\n",
            " 9   V9      284807 non-null  float64\n",
            " 10  V10     284807 non-null  float64\n",
            " 11  V11     284807 non-null  float64\n",
            " 12  V12     284807 non-null  float64\n",
            " 13  V13     284807 non-null  float64\n",
            " 14  V14     284807 non-null  float64\n",
            " 15  V15     284807 non-null  float64\n",
            " 16  V16     284807 non-null  float64\n",
            " 17  V17     284807 non-null  float64\n",
            " 18  V18     284807 non-null  float64\n",
            " 19  V19     284807 non-null  float64\n",
            " 20  V20     284807 non-null  float64\n",
            " 21  V21     284807 non-null  float64\n",
            " 22  V22     284807 non-null  float64\n",
            " 23  V23     284807 non-null  float64\n",
            " 24  V24     284807 non-null  float64\n",
            " 25  V25     284807 non-null  float64\n",
            " 26  V26     284807 non-null  float64\n",
            " 27  V27     284807 non-null  float64\n",
            " 28  V28     284807 non-null  float64\n",
            " 29  Amount  284807 non-null  float64\n",
            " 30  Class   284807 non-null  int64  \n",
            "dtypes: float64(30), int64(1)\n",
            "memory usage: 67.4 MB\n"
          ],
          "name": "stdout"
        }
      ]
    },
    {
      "cell_type": "markdown",
      "metadata": {
        "id": "MEdve5dw0jDE"
      },
      "source": [
        "Checking if null value is present."
      ]
    },
    {
      "cell_type": "code",
      "metadata": {
        "colab": {
          "base_uri": "https://localhost:8080/"
        },
        "id": "ZKYYgLQdziHm",
        "outputId": "95527532-5e7e-4549-fddc-1e42ceb3db9c"
      },
      "source": [
        "#Checking if any null values is present or not.\r\n",
        "data.isnull().values.any()\r\n"
      ],
      "execution_count": 44,
      "outputs": [
        {
          "output_type": "execute_result",
          "data": {
            "text/plain": [
              "False"
            ]
          },
          "metadata": {
            "tags": []
          },
          "execution_count": 44
        }
      ]
    },
    {
      "cell_type": "code",
      "metadata": {
        "colab": {
          "base_uri": "https://localhost:8080/",
          "height": 530
        },
        "id": "PFt8p4910hgp",
        "outputId": "f8163f31-7f8a-49a5-f9da-f49566a2a6fc"
      },
      "source": [
        "#Checking out he distribution of normal and fraud cases. Turns out it is imbalanced dataset.\r\n",
        "count_classes = pd.value_counts(data['Class'], sort = True)\r\n",
        "\r\n",
        "count_classes.plot(kind = 'bar', rot=0)\r\n",
        "\r\n",
        "plt.title(\"Transaction Class Distribution\")\r\n",
        "\r\n",
        "plt.xticks(range(2), LABELS)\r\n",
        "\r\n",
        "plt.xlabel(\"Class\")\r\n",
        "\r\n",
        "plt.ylabel(\"Frequency\")"
      ],
      "execution_count": 45,
      "outputs": [
        {
          "output_type": "execute_result",
          "data": {
            "text/plain": [
              "Text(0, 0.5, 'Frequency')"
            ]
          },
          "metadata": {
            "tags": []
          },
          "execution_count": 45
        },
        {
          "output_type": "display_data",
          "data": {
            "image/png": "[encoded data removed]",
            "text/plain": [
              "<Figure size 1008x576 with 1 Axes>"
            ]
          },
          "metadata": {
            "tags": [],
            "needs_background": "light"
          }
        }
      ]
    },
    {
      "cell_type": "markdown",
      "metadata": {
        "id": "pfATgMB-03BR"
      },
      "source": [
        "We can see that data is extremely imbalanced."
      ]
    },
    {
      "cell_type": "code",
      "metadata": {
        "id": "0ABjWypP0JsR"
      },
      "source": [
        "#Working on fraction of data to make the process computationally efficient.\r\n",
        "data = data.sample(frac = 0.1, random_state = 1)"
      ],
      "execution_count": 46,
      "outputs": []
    },
    {
      "cell_type": "code",
      "metadata": {
        "id": "WVuDm0iS_mbJ"
      },
      "source": [
        "#Segregating the fraud and valid cases.\r\n",
        "fraud = data[data['Class']==1]\r\n",
        "valid = data[data['Class']==0]\r\n",
        "outlier_fraction = len(fraud)/float(len(valid))"
      ],
      "execution_count": 47,
      "outputs": []
    },
    {
      "cell_type": "code",
      "metadata": {
        "colab": {
          "base_uri": "https://localhost:8080/"
        },
        "id": "OClIA_uS_uuU",
        "outputId": "06a35883-be86-4a6a-e101-1559279d384f"
      },
      "source": [
        "print(outlier_fraction)\r\n",
        "print(\"Fraud Cases : {}\".format(len(fraud)))\r\n",
        "print(\"Valid Cases : {}\".format(len(valid)))\r\n"
      ],
      "execution_count": 48,
      "outputs": [
        {
          "output_type": "stream",
          "text": [
            "0.0017234102419808666\n",
            "Fraud Cases : 49\n",
            "Valid Cases : 28432\n"
          ],
          "name": "stdout"
        }
      ]
    },
    {
      "cell_type": "code",
      "metadata": {
        "colab": {
          "base_uri": "https://localhost:8080/",
          "height": 570
        },
        "id": "AvjKn3PguWKu",
        "outputId": "3a2d8a3b-1fcd-4e5d-a5c8-9e51763efd95"
      },
      "source": [
        "#Identifying the correlation between the variables.\r\n",
        "corrmat = data.corr()\r\n",
        "fig = plt.figure(figsize = (12, 9))\r\n",
        "sns.heatmap(corrmat, vmax = .8, square = True)\r\n",
        "plt.show()"
      ],
      "execution_count": 49,
      "outputs": [
        {
          "output_type": "display_data",
          "data": {
            "image/png": "[encoded data removed]",
            "text/plain": [
              "<Figure size 864x648 with 2 Axes>"
            ]
          },
          "metadata": {
            "tags": [],
            "needs_background": "light"
          }
        }
      ]
    },
    {
      "cell_type": "code",
      "metadata": {
        "id": "ySyYsJrN_5lq"
      },
      "source": [
        "columns = data.columns.tolist()"
      ],
      "execution_count": 50,
      "outputs": []
    },
    {
      "cell_type": "code",
      "metadata": {
        "colab": {
          "base_uri": "https://localhost:8080/",
          "height": 473
        },
        "id": "Ly5KmYOiBDxe",
        "outputId": "b2b8a605-27c7-4635-bb81-c412603e071c"
      },
      "source": [
        "#Taking out target variable to make train and test data.\r\n",
        "columns = [c for c in columns if c not in ['Class']]\r\n",
        "\r\n",
        "target = 'Class'\r\n",
        "\r\n",
        "state = np.random.RandomState(42)\r\n",
        "X = data[columns]\r\n",
        "Y = data[target]\r\n",
        "print(X.shape)\r\n",
        "print(Y.shape)\r\n",
        "X"
      ],
      "execution_count": 51,
      "outputs": [
        {
          "output_type": "stream",
          "text": [
            "(28481, 30)\n",
            "(28481,)\n"
          ],
          "name": "stdout"
        },
        {
          "output_type": "execute_result",
          "data": {
            "text/html": [
              "<div>\n",
              "<style scoped>\n",
              "    .dataframe tbody tr th:only-of-type {\n",
              "        vertical-align: middle;\n",
              "    }\n",
              "\n",
              "    .dataframe tbody tr th {\n",
              "        vertical-align: top;\n",
              "    }\n",
              "\n",
              "    .dataframe thead th {\n",
              "        text-align: right;\n",
              "    }\n",
              "</style>\n",
              "<table border=\"1\" class=\"dataframe\">\n",
              "  <thead>\n",
              "    <tr style=\"text-align: right;\">\n",
              "      <th></th>\n",
              "      <th>Time</th>\n",
              "      <th>V1</th>\n",
              "      <th>V2</th>\n",
              "      <th>V3</th>\n",
              "      <th>V4</th>\n",
              "      <th>V5</th>\n",
              "      <th>V6</th>\n",
              "      <th>V7</th>\n",
              "      <th>V8</th>\n",
              "      <th>V9</th>\n",
              "      <th>V10</th>\n",
              "      <th>V11</th>\n",
              "      <th>V12</th>\n",
              "      <th>V13</th>\n",
              "      <th>V14</th>\n",
              "      <th>V15</th>\n",
              "      <th>V16</th>\n",
              "      <th>V17</th>\n",
              "      <th>V18</th>\n",
              "      <th>V19</th>\n",
              "      <th>V20</th>\n",
              "      <th>V21</th>\n",
              "      <th>V22</th>\n",
              "      <th>V23</th>\n",
              "      <th>V24</th>\n",
              "      <th>V25</th>\n",
              "      <th>V26</th>\n",
              "      <th>V27</th>\n",
              "      <th>V28</th>\n",
              "      <th>Amount</th>\n",
              "    </tr>\n",
              "  </thead>\n",
              "  <tbody>\n",
              "    <tr>\n",
              "      <th>169876</th>\n",
              "      <td>119907.0</td>\n",
              "      <td>-0.611712</td>\n",
              "      <td>-0.769705</td>\n",
              "      <td>-0.149759</td>\n",
              "      <td>-0.224877</td>\n",
              "      <td>2.028577</td>\n",
              "      <td>-2.019887</td>\n",
              "      <td>0.292491</td>\n",
              "      <td>-0.523020</td>\n",
              "      <td>0.358468</td>\n",
              "      <td>0.070050</td>\n",
              "      <td>-0.854023</td>\n",
              "      <td>0.547347</td>\n",
              "      <td>0.616448</td>\n",
              "      <td>-0.101785</td>\n",
              "      <td>-0.608492</td>\n",
              "      <td>-0.288559</td>\n",
              "      <td>-0.606199</td>\n",
              "      <td>-0.900746</td>\n",
              "      <td>-0.201311</td>\n",
              "      <td>-0.196039</td>\n",
              "      <td>-0.075208</td>\n",
              "      <td>0.045536</td>\n",
              "      <td>0.380739</td>\n",
              "      <td>0.023440</td>\n",
              "      <td>-2.220686</td>\n",
              "      <td>-0.201146</td>\n",
              "      <td>0.066501</td>\n",
              "      <td>0.221180</td>\n",
              "      <td>1.79</td>\n",
              "    </tr>\n",
              "    <tr>\n",
              "      <th>127467</th>\n",
              "      <td>78340.0</td>\n",
              "      <td>-0.814682</td>\n",
              "      <td>1.319219</td>\n",
              "      <td>1.329415</td>\n",
              "      <td>0.027273</td>\n",
              "      <td>-0.284871</td>\n",
              "      <td>-0.653985</td>\n",
              "      <td>0.321552</td>\n",
              "      <td>0.435975</td>\n",
              "      <td>-0.704298</td>\n",
              "      <td>-0.600684</td>\n",
              "      <td>0.096501</td>\n",
              "      <td>0.710309</td>\n",
              "      <td>0.778924</td>\n",
              "      <td>0.353867</td>\n",
              "      <td>0.953048</td>\n",
              "      <td>-0.103542</td>\n",
              "      <td>0.128899</td>\n",
              "      <td>-0.964070</td>\n",
              "      <td>-0.477130</td>\n",
              "      <td>-0.009041</td>\n",
              "      <td>-0.128619</td>\n",
              "      <td>-0.368565</td>\n",
              "      <td>0.090660</td>\n",
              "      <td>0.401147</td>\n",
              "      <td>-0.261034</td>\n",
              "      <td>0.080621</td>\n",
              "      <td>0.162427</td>\n",
              "      <td>0.059456</td>\n",
              "      <td>1.98</td>\n",
              "    </tr>\n",
              "    <tr>\n",
              "      <th>137900</th>\n",
              "      <td>82382.0</td>\n",
              "      <td>-0.318193</td>\n",
              "      <td>1.118618</td>\n",
              "      <td>0.969864</td>\n",
              "      <td>-0.127052</td>\n",
              "      <td>0.569563</td>\n",
              "      <td>-0.532484</td>\n",
              "      <td>0.706252</td>\n",
              "      <td>-0.064966</td>\n",
              "      <td>-0.463271</td>\n",
              "      <td>-0.528357</td>\n",
              "      <td>-0.813214</td>\n",
              "      <td>0.111898</td>\n",
              "      <td>1.133875</td>\n",
              "      <td>-0.649766</td>\n",
              "      <td>0.861035</td>\n",
              "      <td>0.583787</td>\n",
              "      <td>-0.344094</td>\n",
              "      <td>0.028312</td>\n",
              "      <td>0.219760</td>\n",
              "      <td>0.206028</td>\n",
              "      <td>-0.305402</td>\n",
              "      <td>-0.774704</td>\n",
              "      <td>-0.123884</td>\n",
              "      <td>-0.495687</td>\n",
              "      <td>-0.018148</td>\n",
              "      <td>0.121679</td>\n",
              "      <td>0.249050</td>\n",
              "      <td>0.092516</td>\n",
              "      <td>0.89</td>\n",
              "    </tr>\n",
              "    <tr>\n",
              "      <th>21513</th>\n",
              "      <td>31717.0</td>\n",
              "      <td>-1.328271</td>\n",
              "      <td>1.018378</td>\n",
              "      <td>1.775426</td>\n",
              "      <td>-1.574193</td>\n",
              "      <td>-0.117696</td>\n",
              "      <td>-0.457733</td>\n",
              "      <td>0.681867</td>\n",
              "      <td>-0.031641</td>\n",
              "      <td>0.383872</td>\n",
              "      <td>0.334853</td>\n",
              "      <td>0.905210</td>\n",
              "      <td>-0.277872</td>\n",
              "      <td>-1.336179</td>\n",
              "      <td>-0.012238</td>\n",
              "      <td>0.212828</td>\n",
              "      <td>0.769345</td>\n",
              "      <td>-1.010534</td>\n",
              "      <td>0.357288</td>\n",
              "      <td>-0.125585</td>\n",
              "      <td>0.315823</td>\n",
              "      <td>-0.220815</td>\n",
              "      <td>-0.419013</td>\n",
              "      <td>-0.239197</td>\n",
              "      <td>0.009967</td>\n",
              "      <td>0.232829</td>\n",
              "      <td>0.814177</td>\n",
              "      <td>0.098797</td>\n",
              "      <td>-0.004273</td>\n",
              "      <td>15.98</td>\n",
              "    </tr>\n",
              "    <tr>\n",
              "      <th>134700</th>\n",
              "      <td>80923.0</td>\n",
              "      <td>1.276712</td>\n",
              "      <td>0.617120</td>\n",
              "      <td>-0.578014</td>\n",
              "      <td>0.879173</td>\n",
              "      <td>0.061706</td>\n",
              "      <td>-1.472002</td>\n",
              "      <td>0.373692</td>\n",
              "      <td>-0.287204</td>\n",
              "      <td>-0.084482</td>\n",
              "      <td>-0.696578</td>\n",
              "      <td>0.101512</td>\n",
              "      <td>-0.433200</td>\n",
              "      <td>-0.634867</td>\n",
              "      <td>-1.188354</td>\n",
              "      <td>1.028063</td>\n",
              "      <td>0.576121</td>\n",
              "      <td>1.068353</td>\n",
              "      <td>0.332690</td>\n",
              "      <td>-0.362811</td>\n",
              "      <td>-0.105286</td>\n",
              "      <td>-0.160161</td>\n",
              "      <td>-0.430404</td>\n",
              "      <td>-0.076738</td>\n",
              "      <td>0.258708</td>\n",
              "      <td>0.552170</td>\n",
              "      <td>0.370701</td>\n",
              "      <td>-0.034255</td>\n",
              "      <td>0.041709</td>\n",
              "      <td>0.76</td>\n",
              "    </tr>\n",
              "    <tr>\n",
              "      <th>...</th>\n",
              "      <td>...</td>\n",
              "      <td>...</td>\n",
              "      <td>...</td>\n",
              "      <td>...</td>\n",
              "      <td>...</td>\n",
              "      <td>...</td>\n",
              "      <td>...</td>\n",
              "      <td>...</td>\n",
              "      <td>...</td>\n",
              "      <td>...</td>\n",
              "      <td>...</td>\n",
              "      <td>...</td>\n",
              "      <td>...</td>\n",
              "      <td>...</td>\n",
              "      <td>...</td>\n",
              "      <td>...</td>\n",
              "      <td>...</td>\n",
              "      <td>...</td>\n",
              "      <td>...</td>\n",
              "      <td>...</td>\n",
              "      <td>...</td>\n",
              "      <td>...</td>\n",
              "      <td>...</td>\n",
              "      <td>...</td>\n",
              "      <td>...</td>\n",
              "      <td>...</td>\n",
              "      <td>...</td>\n",
              "      <td>...</td>\n",
              "      <td>...</td>\n",
              "      <td>...</td>\n",
              "    </tr>\n",
              "    <tr>\n",
              "      <th>2032</th>\n",
              "      <td>1574.0</td>\n",
              "      <td>-0.615776</td>\n",
              "      <td>0.654356</td>\n",
              "      <td>2.618793</td>\n",
              "      <td>0.857434</td>\n",
              "      <td>-0.487340</td>\n",
              "      <td>0.593957</td>\n",
              "      <td>-0.095191</td>\n",
              "      <td>0.426786</td>\n",
              "      <td>0.011607</td>\n",
              "      <td>-0.384413</td>\n",
              "      <td>0.320468</td>\n",
              "      <td>-0.022815</td>\n",
              "      <td>-1.299791</td>\n",
              "      <td>0.015368</td>\n",
              "      <td>-0.130310</td>\n",
              "      <td>0.048130</td>\n",
              "      <td>-0.240574</td>\n",
              "      <td>0.958278</td>\n",
              "      <td>1.103665</td>\n",
              "      <td>-0.008094</td>\n",
              "      <td>0.010440</td>\n",
              "      <td>0.113631</td>\n",
              "      <td>-0.313035</td>\n",
              "      <td>-0.015388</td>\n",
              "      <td>0.213878</td>\n",
              "      <td>-0.268579</td>\n",
              "      <td>0.117815</td>\n",
              "      <td>0.075734</td>\n",
              "      <td>9.99</td>\n",
              "    </tr>\n",
              "    <tr>\n",
              "      <th>240932</th>\n",
              "      <td>150813.0</td>\n",
              "      <td>-3.517229</td>\n",
              "      <td>3.326821</td>\n",
              "      <td>-3.590262</td>\n",
              "      <td>0.674769</td>\n",
              "      <td>-0.679266</td>\n",
              "      <td>-0.469516</td>\n",
              "      <td>-1.135362</td>\n",
              "      <td>2.778095</td>\n",
              "      <td>-2.404956</td>\n",
              "      <td>0.378914</td>\n",
              "      <td>-0.877399</td>\n",
              "      <td>1.038633</td>\n",
              "      <td>0.270187</td>\n",
              "      <td>2.418088</td>\n",
              "      <td>-2.437526</td>\n",
              "      <td>1.407859</td>\n",
              "      <td>0.356358</td>\n",
              "      <td>-0.332109</td>\n",
              "      <td>-0.592708</td>\n",
              "      <td>-0.570960</td>\n",
              "      <td>0.455767</td>\n",
              "      <td>0.388102</td>\n",
              "      <td>0.268986</td>\n",
              "      <td>0.382692</td>\n",
              "      <td>-0.653335</td>\n",
              "      <td>2.192962</td>\n",
              "      <td>-0.953907</td>\n",
              "      <td>-0.137082</td>\n",
              "      <td>0.76</td>\n",
              "    </tr>\n",
              "    <tr>\n",
              "      <th>3701</th>\n",
              "      <td>3169.0</td>\n",
              "      <td>-0.315540</td>\n",
              "      <td>1.054303</td>\n",
              "      <td>1.484711</td>\n",
              "      <td>1.138262</td>\n",
              "      <td>0.394713</td>\n",
              "      <td>-0.168883</td>\n",
              "      <td>0.737923</td>\n",
              "      <td>-0.061284</td>\n",
              "      <td>-0.952381</td>\n",
              "      <td>-0.206170</td>\n",
              "      <td>-0.016169</td>\n",
              "      <td>0.675908</td>\n",
              "      <td>1.352823</td>\n",
              "      <td>0.110221</td>\n",
              "      <td>1.286008</td>\n",
              "      <td>-0.672927</td>\n",
              "      <td>0.111482</td>\n",
              "      <td>-0.644143</td>\n",
              "      <td>0.411444</td>\n",
              "      <td>0.138818</td>\n",
              "      <td>0.005626</td>\n",
              "      <td>0.094740</td>\n",
              "      <td>0.024370</td>\n",
              "      <td>0.091800</td>\n",
              "      <td>-0.463470</td>\n",
              "      <td>-0.457328</td>\n",
              "      <td>0.194541</td>\n",
              "      <td>0.166039</td>\n",
              "      <td>19.60</td>\n",
              "    </tr>\n",
              "    <tr>\n",
              "      <th>153365</th>\n",
              "      <td>98752.0</td>\n",
              "      <td>-3.580417</td>\n",
              "      <td>4.100916</td>\n",
              "      <td>-2.577720</td>\n",
              "      <td>-1.476718</td>\n",
              "      <td>-0.006201</td>\n",
              "      <td>-2.008418</td>\n",
              "      <td>0.887262</td>\n",
              "      <td>0.304192</td>\n",
              "      <td>2.879710</td>\n",
              "      <td>2.681430</td>\n",
              "      <td>0.210721</td>\n",
              "      <td>-1.740375</td>\n",
              "      <td>2.365436</td>\n",
              "      <td>1.637916</td>\n",
              "      <td>-0.896628</td>\n",
              "      <td>-0.816770</td>\n",
              "      <td>0.475129</td>\n",
              "      <td>-0.360711</td>\n",
              "      <td>-0.720089</td>\n",
              "      <td>1.312993</td>\n",
              "      <td>-0.194866</td>\n",
              "      <td>0.571678</td>\n",
              "      <td>-0.001519</td>\n",
              "      <td>0.009117</td>\n",
              "      <td>0.321669</td>\n",
              "      <td>0.034900</td>\n",
              "      <td>0.785417</td>\n",
              "      <td>0.353092</td>\n",
              "      <td>0.92</td>\n",
              "    </tr>\n",
              "    <tr>\n",
              "      <th>97365</th>\n",
              "      <td>66187.0</td>\n",
              "      <td>1.213349</td>\n",
              "      <td>0.227172</td>\n",
              "      <td>-0.886860</td>\n",
              "      <td>1.345683</td>\n",
              "      <td>2.254592</td>\n",
              "      <td>3.788565</td>\n",
              "      <td>-0.521816</td>\n",
              "      <td>0.891366</td>\n",
              "      <td>-0.776104</td>\n",
              "      <td>0.748678</td>\n",
              "      <td>-0.379537</td>\n",
              "      <td>-0.299636</td>\n",
              "      <td>0.039958</td>\n",
              "      <td>0.346679</td>\n",
              "      <td>0.711024</td>\n",
              "      <td>1.016174</td>\n",
              "      <td>-1.146753</td>\n",
              "      <td>0.389481</td>\n",
              "      <td>-0.754950</td>\n",
              "      <td>0.007357</td>\n",
              "      <td>0.102366</td>\n",
              "      <td>0.116553</td>\n",
              "      <td>-0.166854</td>\n",
              "      <td>1.015984</td>\n",
              "      <td>0.755462</td>\n",
              "      <td>0.169925</td>\n",
              "      <td>-0.005633</td>\n",
              "      <td>0.017400</td>\n",
              "      <td>19.34</td>\n",
              "    </tr>\n",
              "  </tbody>\n",
              "</table>\n",
              "<p>28481 rows × 30 columns</p>\n",
              "</div>"
            ],
            "text/plain": [
              "            Time        V1        V2  ...       V27       V28  Amount\n",
              "169876  119907.0 -0.611712 -0.769705  ...  0.066501  0.221180    1.79\n",
              "127467   78340.0 -0.814682  1.319219  ...  0.162427  0.059456    1.98\n",
              "137900   82382.0 -0.318193  1.118618  ...  0.249050  0.092516    0.89\n",
              "21513    31717.0 -1.328271  1.018378  ...  0.098797 -0.004273   15.98\n",
              "134700   80923.0  1.276712  0.617120  ... -0.034255  0.041709    0.76\n",
              "...          ...       ...       ...  ...       ...       ...     ...\n",
              "2032      1574.0 -0.615776  0.654356  ...  0.117815  0.075734    9.99\n",
              "240932  150813.0 -3.517229  3.326821  ... -0.953907 -0.137082    0.76\n",
              "3701      3169.0 -0.315540  1.054303  ...  0.194541  0.166039   19.60\n",
              "153365   98752.0 -3.580417  4.100916  ...  0.785417  0.353092    0.92\n",
              "97365    66187.0  1.213349  0.227172  ... -0.005633  0.017400   19.34\n",
              "\n",
              "[28481 rows x 30 columns]"
            ]
          },
          "metadata": {
            "tags": []
          },
          "execution_count": 51
        }
      ]
    },
    {
      "cell_type": "markdown",
      "metadata": {
        "id": "dPs9t5DXCOHu"
      },
      "source": [
        "**Isolation Forest Algorithm**\r\n",
        "\r\n",
        "One of the newest techniques to detect anomalies is called Isolation Forests. The algorithm is based on the fact that anomalies are data points that are few and different.\r\n",
        "\r\n",
        "This method is highly useful and is fundamentally different from all existing methods. It introduces the use of isolation as a more effective and efficient means to detect anomalies than the commonly used basic distance and density measures. Moreover, this method is an algorithm with a low linear time complexity and a small memory requirement. It works best in imbalanced data.\r\n",
        "\r\n",
        "The way that the algorithm constructs the separation is by first creating isolation trees, or random decision trees. Then, the score is calculated as the path length to isolate the observation."
      ]
    },
    {
      "cell_type": "code",
      "metadata": {
        "id": "VNeEBb5ZBFIG"
      },
      "source": [
        "Classifiers = {'Isolation Forest' : IsolationForest(n_estimators=100, max_samples=len(X), contamination=outlier_fraction,\r\n",
        "                    random_state=state, verbose=0)}"
      ],
      "execution_count": 52,
      "outputs": []
    },
    {
      "cell_type": "code",
      "metadata": {
        "id": "lJ6Aq1MYvI89"
      },
      "source": [
        "#Pickling the model to use it again in future.\r\n",
        "import pickle"
      ],
      "execution_count": 53,
      "outputs": []
    },
    {
      "cell_type": "code",
      "metadata": {
        "id": "GhsoVOSSvLFb"
      },
      "source": [
        "model_file = \"CreditCard.pkl\""
      ],
      "execution_count": 54,
      "outputs": []
    },
    {
      "cell_type": "code",
      "metadata": {
        "id": "tUvErEHvvS7H"
      },
      "source": [
        "#fit the model\r\n",
        "n_ouliers = len(fraud)"
      ],
      "execution_count": 55,
      "outputs": []
    },
    {
      "cell_type": "code",
      "metadata": {
        "id": "zeOsl0ffvbYm"
      },
      "source": [
        "for i, (clf_name, clf) in enumerate(Classifiers.items()):\r\n",
        "  clf.fit(X)\r\n",
        "  with open(model_file, 'wb') as file:\r\n",
        "    pickle.dump(clf, file)\r\n",
        "  s = clf.decision_function(X)\r\n",
        "  y_pred = clf.predict(X)"
      ],
      "execution_count": 56,
      "outputs": []
    },
    {
      "cell_type": "code",
      "metadata": {
        "colab": {
          "base_uri": "https://localhost:8080/"
        },
        "id": "6WqzGxxKzOo9",
        "outputId": "7c060c96-deef-42a1-efd4-a27c1f4035db"
      },
      "source": [
        "print(len(y_pred))\r\n",
        "print(np.array(y_pred))"
      ],
      "execution_count": 57,
      "outputs": [
        {
          "output_type": "stream",
          "text": [
            "28481\n",
            "[1 1 1 ... 1 1 1]\n"
          ],
          "name": "stdout"
        }
      ]
    },
    {
      "cell_type": "code",
      "metadata": {
        "colab": {
          "base_uri": "https://localhost:8080/"
        },
        "id": "MI53tVGdg2hv",
        "outputId": "ae4e88ed-79d7-4bd5-f94a-5742fe01581c"
      },
      "source": [
        "'''#Reshape the prediction values to 0 for Valid transactions , 1 for Fraud transactions\r\n",
        "y_pred[y_pred == 1] = 0\r\n",
        "y_pred[y_pred == -1] = 1\r\n",
        "n_errors = (y_pred != Y).sum()\r\n",
        "# Run Classification Metrics\r\n",
        "print(\"{}: {}\".format(clf_name,n_errors))\r\n",
        "print(\"Accuracy Score :\")\r\n",
        "print(accuracy_score(Y,y_pred))\r\n",
        "print(\"Classification Report :\")\r\n",
        "print(classification_report(Y,y_pred))'''"
      ],
      "execution_count": 58,
      "outputs": [
        {
          "output_type": "stream",
          "text": [
            "Isolation Forest: 77\n",
            "Accuracy Score :\n",
            "0.9972964432428637\n",
            "Classification Report :\n",
            "              precision    recall  f1-score   support\n",
            "\n",
            "           0       1.00      1.00      1.00     28432\n",
            "           1       0.22      0.22      0.22        49\n",
            "\n",
            "    accuracy                           1.00     28481\n",
            "   macro avg       0.61      0.61      0.61     28481\n",
            "weighted avg       1.00      1.00      1.00     28481\n",
            "\n"
          ],
          "name": "stdout"
        }
      ]
    }
  ]
}